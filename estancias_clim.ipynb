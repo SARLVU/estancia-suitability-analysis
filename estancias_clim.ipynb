{
 "cells": [
  {
   "cell_type": "code",
   "execution_count": 10,
   "id": "d69aa43a-7aa8-40d3-b831-d46197d1b40f",
   "metadata": {},
   "outputs": [],
   "source": [
    "import pystac_client\n",
    "import planetary_computer\n",
    "import rioxarray\n",
    "import xarray as xr\n",
    "import numpy as np\n",
    "import xrspatial\n",
    "import matplotlib.pyplot as plt\n",
    "\n",
    "catalog = pystac_client.Client.open(\n",
    "    \"https://planetarycomputer.microsoft.com/api/stac/v1\",\n",
    "    modifier=planetary_computer.sign_inplace,\n",
    ")\n",
    "collection = catalog.get_collection(\"terraclimate\")"
   ]
  },
  {
   "cell_type": "markdown",
   "id": "1ded03a3-957c-414e-bba2-eb29f1467d9d",
   "metadata": {},
   "source": [
    "# Load in Estancias Coords"
   ]
  },
  {
   "cell_type": "code",
   "execution_count": 2,
   "id": "14a26985-ea6f-48d0-b387-0443f87aa16e",
   "metadata": {},
   "outputs": [
    {
     "data": {
      "text/plain": [
       "geopandas.geodataframe.GeoDataFrame"
      ]
     },
     "execution_count": 2,
     "metadata": {},
     "output_type": "execute_result"
    }
   ],
   "source": [
    "import geopandas as gpd\n",
    "estancias = gpd.read_file(\"Estancias_corrals_from_sat_imagery\")\n",
    "type(estancias)"
   ]
  },
  {
   "cell_type": "code",
   "execution_count": 3,
   "id": "4a2f1596-cd38-47bd-bbf8-2a732bf6fae3",
   "metadata": {},
   "outputs": [
    {
     "data": {
      "text/plain": [
       "<Geographic 2D CRS: EPSG:4326>\n",
       "Name: WGS 84\n",
       "Axis Info [ellipsoidal]:\n",
       "- Lat[north]: Geodetic latitude (degree)\n",
       "- Lon[east]: Geodetic longitude (degree)\n",
       "Area of Use:\n",
       "- name: World.\n",
       "- bounds: (-180.0, -90.0, 180.0, 90.0)\n",
       "Datum: World Geodetic System 1984 ensemble\n",
       "- Ellipsoid: WGS 84\n",
       "- Prime Meridian: Greenwich"
      ]
     },
     "execution_count": 3,
     "metadata": {},
     "output_type": "execute_result"
    }
   ],
   "source": [
    "#indexing operations convert geopandas dataframe to vanilla pandas dataframe\n",
    "#so we need to store the crs in a variable to access it later\n",
    "estancias_crs = estancias.crs\n",
    "estancias_crs"
   ]
  },
  {
   "cell_type": "code",
   "execution_count": 4,
   "id": "1ea7cd73-7f3b-43c4-a508-367327077409",
   "metadata": {},
   "outputs": [
    {
     "data": {
      "text/html": [
       "<div>\n",
       "<style scoped>\n",
       "    .dataframe tbody tr th:only-of-type {\n",
       "        vertical-align: middle;\n",
       "    }\n",
       "\n",
       "    .dataframe tbody tr th {\n",
       "        vertical-align: top;\n",
       "    }\n",
       "\n",
       "    .dataframe thead th {\n",
       "        text-align: right;\n",
       "    }\n",
       "</style>\n",
       "<table border=\"1\" class=\"dataframe\">\n",
       "  <thead>\n",
       "    <tr style=\"text-align: right;\">\n",
       "      <th></th>\n",
       "      <th>index</th>\n",
       "      <th>fid</th>\n",
       "      <th>locus_type</th>\n",
       "      <th>lat</th>\n",
       "      <th>lon</th>\n",
       "    </tr>\n",
       "  </thead>\n",
       "  <tbody>\n",
       "    <tr>\n",
       "      <th>0</th>\n",
       "      <td>3</td>\n",
       "      <td>4.0</td>\n",
       "      <td>6.0</td>\n",
       "      <td>-16.910967</td>\n",
       "      <td>-70.644626</td>\n",
       "    </tr>\n",
       "    <tr>\n",
       "      <th>1</th>\n",
       "      <td>4</td>\n",
       "      <td>5.0</td>\n",
       "      <td>6.0</td>\n",
       "      <td>-17.040630</td>\n",
       "      <td>-69.742321</td>\n",
       "    </tr>\n",
       "    <tr>\n",
       "      <th>2</th>\n",
       "      <td>5</td>\n",
       "      <td>6.0</td>\n",
       "      <td>13.0</td>\n",
       "      <td>-17.310982</td>\n",
       "      <td>-69.975398</td>\n",
       "    </tr>\n",
       "    <tr>\n",
       "      <th>3</th>\n",
       "      <td>6</td>\n",
       "      <td>7.0</td>\n",
       "      <td>13.0</td>\n",
       "      <td>-15.070609</td>\n",
       "      <td>-73.132203</td>\n",
       "    </tr>\n",
       "    <tr>\n",
       "      <th>4</th>\n",
       "      <td>7</td>\n",
       "      <td>8.0</td>\n",
       "      <td>13.0</td>\n",
       "      <td>-15.070327</td>\n",
       "      <td>-73.116103</td>\n",
       "    </tr>\n",
       "    <tr>\n",
       "      <th>...</th>\n",
       "      <td>...</td>\n",
       "      <td>...</td>\n",
       "      <td>...</td>\n",
       "      <td>...</td>\n",
       "      <td>...</td>\n",
       "    </tr>\n",
       "    <tr>\n",
       "      <th>9535</th>\n",
       "      <td>9538</td>\n",
       "      <td>9539.0</td>\n",
       "      <td>6.0</td>\n",
       "      <td>-16.095296</td>\n",
       "      <td>-70.985209</td>\n",
       "    </tr>\n",
       "    <tr>\n",
       "      <th>9536</th>\n",
       "      <td>9539</td>\n",
       "      <td>9540.0</td>\n",
       "      <td>6.0</td>\n",
       "      <td>-16.096054</td>\n",
       "      <td>-70.974107</td>\n",
       "    </tr>\n",
       "    <tr>\n",
       "      <th>9537</th>\n",
       "      <td>9540</td>\n",
       "      <td>9541.0</td>\n",
       "      <td>6.0</td>\n",
       "      <td>-15.147478</td>\n",
       "      <td>-73.133663</td>\n",
       "    </tr>\n",
       "    <tr>\n",
       "      <th>9538</th>\n",
       "      <td>9541</td>\n",
       "      <td>9542.0</td>\n",
       "      <td>6.0</td>\n",
       "      <td>-15.229275</td>\n",
       "      <td>-73.143675</td>\n",
       "    </tr>\n",
       "    <tr>\n",
       "      <th>9539</th>\n",
       "      <td>9542</td>\n",
       "      <td>9543.0</td>\n",
       "      <td>6.0</td>\n",
       "      <td>-15.966806</td>\n",
       "      <td>-70.356040</td>\n",
       "    </tr>\n",
       "  </tbody>\n",
       "</table>\n",
       "<p>9540 rows × 5 columns</p>\n",
       "</div>"
      ],
      "text/plain": [
       "      index     fid  locus_type        lat        lon\n",
       "0         3     4.0         6.0 -16.910967 -70.644626\n",
       "1         4     5.0         6.0 -17.040630 -69.742321\n",
       "2         5     6.0        13.0 -17.310982 -69.975398\n",
       "3         6     7.0        13.0 -15.070609 -73.132203\n",
       "4         7     8.0        13.0 -15.070327 -73.116103\n",
       "...     ...     ...         ...        ...        ...\n",
       "9535   9538  9539.0         6.0 -16.095296 -70.985209\n",
       "9536   9539  9540.0         6.0 -16.096054 -70.974107\n",
       "9537   9540  9541.0         6.0 -15.147478 -73.133663\n",
       "9538   9541  9542.0         6.0 -15.229275 -73.143675\n",
       "9539   9542  9543.0         6.0 -15.966806 -70.356040\n",
       "\n",
       "[9540 rows x 5 columns]"
      ]
     },
     "execution_count": 4,
     "metadata": {},
     "output_type": "execute_result"
    }
   ],
   "source": [
    "estancias = estancias[['fid','locus_type','lat','lon']].dropna().reset_index()\n",
    "estancias"
   ]
  },
  {
   "cell_type": "markdown",
   "id": "3dd0224e-fe68-4929-84b7-01b9c0a63f55",
   "metadata": {},
   "source": [
    "# Load in Data Assets"
   ]
  },
  {
   "cell_type": "code",
   "execution_count": 5,
   "id": "969b9478-6bfc-4155-853c-28d38014dbcc",
   "metadata": {},
   "outputs": [],
   "source": [
    "import odc.stac"
   ]
  },
  {
   "cell_type": "code",
   "execution_count": 6,
   "id": "e8e7865e-783d-4dec-960d-09a81a4825c8",
   "metadata": {},
   "outputs": [],
   "source": [
    "point = {\"type\": \"Point\", \"coordinates\": [estancias['lon'][0], estancias['lat'][0]]}"
   ]
  },
  {
   "cell_type": "code",
   "execution_count": 8,
   "id": "eb225417-a4cb-4e4d-8f9a-c4047f1f64b8",
   "metadata": {},
   "outputs": [],
   "source": [
    "search = catalog.search(\n",
    "    collections=[\"terraclimate\"],\n",
    "    intersects=point,\n",
    ")\n",
    "items = list(search.get_items())\n",
    "#data = odc.stac.stac_load(\n",
    "#    [items[0]],intersects=point\n",
    "#).squeeze()#.isel(time=0)"
   ]
  },
  {
   "cell_type": "code",
   "execution_count": 9,
   "id": "cf349b0f-6526-4867-9693-43bb5760e32b",
   "metadata": {},
   "outputs": [
    {
     "data": {
      "text/plain": [
       "[]"
      ]
     },
     "execution_count": 9,
     "metadata": {},
     "output_type": "execute_result"
    }
   ],
   "source": [
    "items"
   ]
  },
  {
   "cell_type": "code",
   "execution_count": null,
   "id": "787bc39b-d6f0-4369-8f27-c15b76ab6aff",
   "metadata": {},
   "outputs": [],
   "source": []
  }
 ],
 "metadata": {
  "kernelspec": {
   "display_name": "Python 3 (ipykernel)",
   "language": "python",
   "name": "python3"
  },
  "language_info": {
   "codemirror_mode": {
    "name": "ipython",
    "version": 3
   },
   "file_extension": ".py",
   "mimetype": "text/x-python",
   "name": "python",
   "nbconvert_exporter": "python",
   "pygments_lexer": "ipython3",
   "version": "3.10.6"
  }
 },
 "nbformat": 4,
 "nbformat_minor": 5
}
